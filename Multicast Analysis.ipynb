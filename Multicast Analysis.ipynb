{
 "cells": [
  {
   "cell_type": "code",
   "execution_count": null,
   "metadata": {},
   "outputs": [],
   "source": [
    "from all_functions import *\n",
    "from multicast_analysis_plot_functions import *"
   ]
  },
  {
   "cell_type": "markdown",
   "metadata": {},
   "source": [
    "# An Analysis of the Effects of Multicast on DDS Performance\n",
    "\n",
    "- Mcast should have better performance for more participants\n",
    "- How many participants does it take to see performance improvement?"
   ]
  },
  {
   "cell_type": "markdown",
   "metadata": {},
   "source": [
    "## Unicast vs Multicast for Varying Participants"
   ]
  },
  {
   "cell_type": "code",
   "execution_count": null,
   "metadata": {},
   "outputs": [],
   "source": [
    "ucast_vs_mcast_lat_boxplots()"
   ]
  },
  {
   "cell_type": "markdown",
   "metadata": {},
   "source": [
    "### What does the data tell us?\n",
    "- 10P10S and 25P25S mcast outperforms ucast\n",
    "- 50P50S and 75P75S ucast outperforms mcast\n",
    "- **LESS P + S:** MCAST LATENCY < UCAST\n",
    "- **MORE P + S:** UCAST LATENCY < MCAST\n",
    "\n",
    "### What does this mean?\n",
    "- mcast should outperfom ucast for higher participants but it doesn't\n",
    "- same with the other way round\n",
    "- the opposite of what we expect has happened\n",
    "\n",
    "### What can we do to investigate this?\n",
    "- Plot the latencies over time and see if they differ a lot between ucast and mcast"
   ]
  },
  {
   "cell_type": "markdown",
   "metadata": {},
   "source": [
    "## Unicast vs Multicast Latency Line Plots"
   ]
  },
  {
   "cell_type": "code",
   "execution_count": null,
   "metadata": {},
   "outputs": [],
   "source": [
    "ucast_vs_mcast_latency_line_plots()"
   ]
  },
  {
   "cell_type": "markdown",
   "metadata": {},
   "source": [
    "### What does the data tell us?\n",
    "- 10p10s: \n",
    "    - mcast and ucast mean differ by 1ms\n",
    "    - hard to tell difference between the two lines\n",
    "- 25p25s:\n",
    "    - mcast and ucast mean differ by 1ms\n",
    "    - still hard to tell difference between the two lines\n",
    "- 50p50s:\n",
    "    - mcast has mean of 125ms and ucast has mean of 83ms: a difference of 42ms (51% increase)\n",
    "    - it looks like the red line is placed higher than the green line\n",
    "- 75p75s:\n",
    "    - mcast has a mean of 427ms and ucast has a mean of 312ms: a difference of 115ms (37% increase)\n",
    "    - looks like red line is generally placed higher than green line\n",
    "\n",
    "### What does this mean?\n",
    "- Not much performance difference with 10p10s and 25p25s\n",
    "- Big difference (51% increase) for 50p50s\n",
    "- Not so big but still big difference (37% increase) for 75p75s\n",
    "- In all cases, multicast mean is higher, and with more participants multicast mean is a lot higher\n",
    "\n",
    "### How can we confirm that multicast latency is generally higher?\n",
    "- Plot CDFs"
   ]
  },
  {
   "cell_type": "markdown",
   "metadata": {},
   "source": [
    "## Unicast vs Multicast CDFs"
   ]
  },
  {
   "cell_type": "code",
   "execution_count": null,
   "metadata": {},
   "outputs": [],
   "source": [
    "ucast_vs_mcast_cdfs()"
   ]
  },
  {
   "cell_type": "markdown",
   "metadata": {},
   "source": [
    "### What does the data tell us?\n",
    "- 10p10s:\n",
    "    - Multicast has lower latency overall\n",
    "- 25p25s:\n",
    "    - Ucast has more latency values below 10ms than mcast\n",
    "    - Mcast has more latency values between 10ms and 35ms than ucast\n",
    "    - Ucast has more latency values over 35ms than mcast\n",
    "- 50p50s:\n",
    "    - Ucast has lower latency overall\n",
    "- 75p75s:\n",
    "    - Ucast has lower latency overall\n",
    "\n",
    "### What does it exactly mean?\n",
    "- Confirms that mcast has better latency for 10p10s and 25p25s\n",
    "- Confirms that ucast has better latency for more participants\n",
    "- Confirms that the opposite of what is expected has happened"
   ]
  },
  {
   "cell_type": "markdown",
   "metadata": {},
   "source": [
    "### So why does ucast perform better than mcast for more participants?\n",
    "- How does ucast work?\n",
    "    - From one source to one destination\n",
    "- How does mcast work?\n",
    "    - From one source to multiple destinations at once\n",
    "    - Intermediary routers are responsible for duplicating and broadcasting the message\n",
    "    - Intermediary transportation depends on multicast routing protocol being used\n",
    "- It could be intermediary communication?\n",
    "    - Look at throughput\n",
    "        - If throughput is high throughout the test then the subs are getting a lot of data"
   ]
  },
  {
   "cell_type": "markdown",
   "metadata": {},
   "source": [
    "## Unicast vs Multicast Throughput Boxplots"
   ]
  },
  {
   "cell_type": "code",
   "execution_count": null,
   "metadata": {},
   "outputs": [],
   "source": [
    "ucast_vs_mcast_tp_boxplots()"
   ]
  },
  {
   "cell_type": "markdown",
   "metadata": {},
   "source": [
    "### What does the data tell us?\n",
    "- 10p10s:\n",
    "    - Ucast has median of around 240mbps and mcast has median of around 290mbps - a difference of 50mbps\n",
    "        - Mcast subs are getting a lot more data per second\n",
    "    - Ucast has generally lower throughput than mcast\n",
    "        - Ucast subs are getting less data per second\n",
    "    - Mcast outperforms ucast\n",
    "- 25p25s:\n",
    "    - Ucast has median of around 200mbps and mcast has median of around 220mbps - a difference of 20mbps\n",
    "    - Ucast ranges from 180mbps to 215mbps (35mbps diff)\n",
    "    - Mcast ranges from 175mbps to 255mbps (80mbps diff)\n",
    "    - Mcast outperforms ucast\n",
    "- 50p50s:\n",
    "    - Ucast has median of around 180mbps and mcast has median of around 175mbps - a difference of 5mbps\n",
    "    - Ucast ranges from 150mbps to 205mbps (55mbps diff)\n",
    "    - Mcast ranges from 130mbps to 205mbps (75mbps diff)\n",
    "    - Ucast outperforms mcast\n",
    "- 75p75s:\n",
    "    - Ucast has median of around 180mbps and mcast has median of around 165mbps - a difference of 15mbps\n",
    "    - Ucast ranges from 155mbps to 200mbps (45mbps diff)\n",
    "    - Mcast ranges from 135mbps to 185mbps (50mbps diff)\n",
    "    - Ucast outperforms mcast\n",
    "\n",
    "### What exactly does this mean?\n",
    "- Mcast outperforms ucast for 10p10s and 25p25s\n",
    "    - Subs are getting more data than ucast for every second\n",
    "- Ucast outperforms mcast for 50p50s and 75p75s\n",
    "    - Ucast subs are getting more data than mcast subs\n",
    "\n",
    "### How can we find out why this is happening?\n",
    "- Let's plot the general total throughput for each participant amount"
   ]
  },
  {
   "cell_type": "markdown",
   "metadata": {},
   "source": [
    "## Unicast vs Multicast Throughput Line Plots"
   ]
  },
  {
   "cell_type": "code",
   "execution_count": null,
   "metadata": {},
   "outputs": [],
   "source": [
    "ucast_vs_mcast_tp_line_plots()"
   ]
  },
  {
   "cell_type": "markdown",
   "metadata": {},
   "source": [
    "### What does the data tell us?\n",
    "- 10p10s:\n",
    "    - ucast mean is 237mbps and mcast mean is 293mbps (56mbps diff)\n",
    "    - red line is noticeably higher than green line\n",
    "- 25p25s:\n",
    "    - ucast mean is 198mbps and mcast mean is 214mbps (16mbps diff)\n",
    "    - You can see that the red lines are higher than the green lines even though they do touch\n",
    "- 50p50s:\n",
    "    - ucast has mean of 179mbps and mcast has mean of 169mbps (10mbps diff)\n",
    "    - the two lines are a lot closer to each other and there is no visible separation\n",
    "- 75p75s:\n",
    "    - ucast has mean of 176mbps and mcast has mean of 161mbps (15mbps diff)\n",
    "    - green line is noticeably higher than red line\n",
    "\n",
    "### What does this mean?\n",
    "- 10p10s: confirms that mcast outperforms ucast\n",
    "- 25p25s: still confirms that mcast outperforms ucast\n",
    "- 50p50s: ucast is slightly outperforming mcast but its not noticeable\n",
    "- 75p75s: ucast outperforms mcast but not by too much difference\n",
    "\n",
    "We can further confirm results by plotting CDFs."
   ]
  },
  {
   "cell_type": "markdown",
   "metadata": {},
   "source": [
    "## Unicast vs Multicast Throughput CDFs"
   ]
  },
  {
   "cell_type": "code",
   "execution_count": null,
   "metadata": {},
   "outputs": [],
   "source": [
    "import warnings\n",
    "warnings.filterwarnings(\"ignore\")\n",
    "    \n",
    "ucast_vs_mcast_tp_cdfs()"
   ]
  },
  {
   "cell_type": "markdown",
   "metadata": {},
   "source": [
    "### What does the data tell us?\n",
    "- 10p10s:\n",
    "    - mcast outperforms ucast by a lot\n",
    "- 25p25s:\n",
    "    - up to 190mbps, ucast outperforms mcast\n",
    "    - mcast has more measurements including throughputs of 190mbps and above\n",
    "    - mcast outperforms ucast for 90% of the data\n",
    "- 50p50s:\n",
    "    - ucast outperforms mcast but not by a lot\n",
    "- 75p75s:\n",
    "    - ucast outperforms mcast quite a bit\n",
    "\n",
    "### What exactly does this mean?\n",
    "- It confirms that the opposite of what should be happening is true....\n",
    "    - Mcast outperforms ucast for 10p10s and 25p25s and its the other way round for 50p50s and 75p75s\n",
    "- Maybe 25p25s is like the most optimal setup for multiple participants in order for mcast to be used and everything above that is pushing the limits?\n",
    "    - To investigate this we could run tests with 1, 2, 3, 4, 5, 15, 20, 30, 35, 40, 45, etc. pubs and subs to see where the performance turning point is"
   ]
  }
 ],
 "metadata": {
  "interpreter": {
   "hash": "ee9a1b83036b540f44c6734ff698a93dad4ca67534a70d09177e581214cff0be"
  },
  "kernelspec": {
   "display_name": "Python 3.10.0 64-bit",
   "language": "python",
   "name": "python3"
  },
  "language_info": {
   "codemirror_mode": {
    "name": "ipython",
    "version": 3
   },
   "file_extension": ".py",
   "mimetype": "text/x-python",
   "name": "python",
   "nbconvert_exporter": "python",
   "pygments_lexer": "ipython3",
   "version": "3.10.0"
  },
  "orig_nbformat": 4
 },
 "nbformat": 4,
 "nbformat_minor": 2
}
