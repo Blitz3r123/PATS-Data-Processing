{
 "cells": [
  {
   "cell_type": "code",
   "execution_count": 1,
   "id": "8be93f83",
   "metadata": {},
   "outputs": [],
   "source": [
    "from set_4_functions import *"
   ]
  },
  {
   "cell_type": "markdown",
   "id": "0e5851d7",
   "metadata": {},
   "source": [
    "# Set 4 Analysis: Data Access\n",
    "\n",
    "The tests in Set 4: Data Access consist of imposter subscribers subscribing to legitimate data.\n",
    "\n",
    "|     **Parameter**    |       **Values**      |\n",
    "|:--------------------:|:---------------------:|\n",
    "|      Publishers      |    10, 25, 50, 100    |\n",
    "|      Subscribers     |    20, 50, 100, 200   |\n",
    "|      Data Length     |       100 Bytes       |\n",
    "|     Test Duration    |      900 Seconds      |\n",
    "|     Latency Count    |          1000         |\n",
    "|      Reliability     |       `reliable`      |\n",
    "| Communication Method | `unicast` `multicast` |\n",
    "|       Transport      |        `UDPv4`        |\n",
    "|       Test Type      |      `throughput`     |\n",
    "\n",
    "So what do we want to show? We want to directly compare how the performance of Set 4 (Data Access Attack) differs to that of Set 2 (Normal Usage). We start off by comparing the latencies of the two sets and then we can compare the throughputs."
   ]
  },
  {
   "cell_type": "markdown",
   "id": "609835c1",
   "metadata": {},
   "source": [
    "## Set 2 VS Set 4: Latency Comparison\n",
    "*Note: Since the 100 participant tests from Set 4 did **not** produce any latency measurements we won't be plotting any data - there is nothing to plot.*\n",
    "\n",
    "We start off looking at the averages of the latencies."
   ]
  },
  {
   "cell_type": "code",
   "execution_count": 2,
   "id": "beb6156e",
   "metadata": {
    "scrolled": false
   },
   "outputs": [
    {
     "data": {
      "application/vnd.plotly.v1+json": {
       "config": {
        "plotlyServerURL": "https://plot.ly"
       },
       "data": [
        {
         "cells": {
          "fill": {
           "color": [
            [
             "white",
             "#d0d8e0",
             "white",
             "#d0d8e0",
             "white",
             "#d0d8e0",
             "white",
             "#d0d8e0",
             "white",
             "#d0d8e0",
             "white",
             "#d0d8e0",
             "white",
             "#d0d8e0",
             "white",
             "#d0d8e0",
             "white",
             "#d0d8e0",
             "white",
             "#d0d8e0",
             "white",
             "#d0d8e0",
             "white",
             "#d0d8e0",
             "white",
             "#d0d8e0",
             "white",
             "#d0d8e0",
             "white",
             "#d0d8e0",
             "white",
             "#d0d8e0",
             "white",
             "#d0d8e0",
             "white",
             "#d0d8e0",
             "white",
             "#d0d8e0",
             "white",
             "#d0d8e0",
             "white",
             "#d0d8e0",
             "white",
             "#d0d8e0",
             "white",
             "#d0d8e0",
             "white",
             "#d0d8e0",
             "white",
             "#d0d8e0",
             "white",
             "#d0d8e0",
             "white",
             "#d0d8e0",
             "white",
             "#d0d8e0",
             "white",
             "#d0d8e0",
             "white",
             "#d0d8e0",
             "white",
             "#d0d8e0",
             "white",
             "#d0d8e0",
             "white",
             "#d0d8e0",
             "white",
             "#d0d8e0",
             "white",
             "#d0d8e0",
             "white",
             "#d0d8e0",
             "white",
             "#d0d8e0",
             "white",
             "#d0d8e0",
             "white",
             "#d0d8e0",
             "white",
             "#d0d8e0",
             "white",
             "#d0d8e0",
             "white",
             "#d0d8e0",
             "white",
             "#d0d8e0",
             "white",
             "#d0d8e0",
             "white",
             "#d0d8e0",
             "white",
             "#d0d8e0",
             "white",
             "#d0d8e0",
             "white",
             "#d0d8e0",
             "white",
             "#d0d8e0",
             "white",
             "#d0d8e0",
             "white",
             "#d0d8e0",
             "white",
             "#d0d8e0",
             "white",
             "#d0d8e0",
             "white",
             "#d0d8e0",
             "white",
             "#d0d8e0",
             "white",
             "#d0d8e0",
             "white",
             "#d0d8e0",
             "white",
             "#d0d8e0",
             "white",
             "#d0d8e0",
             "white",
             "#d0d8e0",
             "white",
             "#d0d8e0",
             "white",
             "#d0d8e0",
             "white",
             "#d0d8e0",
             "white",
             "#d0d8e0",
             "white",
             "#d0d8e0",
             "white",
             "#d0d8e0",
             "white",
             "#d0d8e0",
             "white",
             "#d0d8e0",
             "white",
             "#d0d8e0",
             "white",
             "#d0d8e0",
             "white",
             "#d0d8e0",
             "white",
             "#d0d8e0",
             "white",
             "#d0d8e0",
             "white",
             "#d0d8e0",
             "white",
             "#d0d8e0",
             "white",
             "#d0d8e0",
             "white",
             "#d0d8e0",
             "white",
             "#d0d8e0",
             "white",
             "#d0d8e0",
             "white",
             "#d0d8e0",
             "white",
             "#d0d8e0",
             "white",
             "#d0d8e0",
             "white",
             "#d0d8e0",
             "white",
             "#d0d8e0",
             "white",
             "#d0d8e0",
             "white",
             "#d0d8e0",
             "white",
             "#d0d8e0",
             "white",
             "#d0d8e0",
             "white",
             "#d0d8e0",
             "white",
             "#d0d8e0",
             "white",
             "#d0d8e0",
             "white",
             "#d0d8e0",
             "white",
             "#d0d8e0",
             "white",
             "#d0d8e0",
             "white",
             "#d0d8e0",
             "white",
             "#d0d8e0",
             "white",
             "#d0d8e0",
             "white",
             "#d0d8e0",
             "white",
             "#d0d8e0",
             "white",
             "#d0d8e0"
            ]
           ]
          },
          "values": [
           [
            "Normal",
            "Attack",
            "Normal",
            "Attack",
            "Normal",
            "Attack",
            "Normal",
            "Attack",
            "Normal",
            "Attack",
            "Normal",
            "Attack"
           ],
           [
            "unicast",
            "unicast",
            "unicast",
            "unicast",
            "unicast",
            "unicast",
            "multicast",
            "multicast",
            "multicast",
            "multicast",
            "multicast",
            "multicast"
           ],
           [
            "10P + 10S",
            "10P + 20S",
            "25P + 25S",
            "25P + 50S",
            "50P + 50S",
            "50P + 100S",
            "10P + 10S",
            "10P + 20S",
            "25P + 25S",
            "25P + 50S",
            "50P + 50S",
            "50P + 100S"
           ],
           [
            "3,256",
            "4,440",
            "25,665",
            "19,988",
            "83,726",
            "979,777",
            "3,295",
            "5,843",
            "29,086",
            "39,414",
            "125,273",
            "373,488"
           ],
           [
            "288",
            "405",
            "3,613",
            "636",
            "23,151",
            "2,013",
            "550",
            "304",
            "4,619",
            "5,771",
            "29,885",
            "113,343"
           ],
           [
            "24,816",
            "25,849",
            "344,456",
            "98,456",
            "184,222",
            "52,451,552",
            "12,114",
            "31,390",
            "86,272",
            "130,535",
            "300,427",
            "1,121,870"
           ],
           [
            "1,597",
            "3,511",
            "27,368",
            "18,819",
            "38,760",
            "6,757,933",
            "1,516",
            "3,910",
            "15,853",
            "20,744",
            "59,013",
            "181,101"
           ]
          ]
         },
         "header": {
          "fill": {
           "color": "#007bff"
          },
          "font": {
           "color": "white",
           "size": 14
          },
          "values": [
           "Type",
           "Unicast/Multicast",
           "Participants",
           "Mean Latency (us)",
           "Min. Latency (us)",
           "Max Latency (us)",
           "Std"
          ]
         },
         "type": "table"
        }
       ],
       "layout": {
        "template": {
         "data": {
          "bar": [
           {
            "error_x": {
             "color": "#2a3f5f"
            },
            "error_y": {
             "color": "#2a3f5f"
            },
            "marker": {
             "line": {
              "color": "#E5ECF6",
              "width": 0.5
             },
             "pattern": {
              "fillmode": "overlay",
              "size": 10,
              "solidity": 0.2
             }
            },
            "type": "bar"
           }
          ],
          "barpolar": [
           {
            "marker": {
             "line": {
              "color": "#E5ECF6",
              "width": 0.5
             },
             "pattern": {
              "fillmode": "overlay",
              "size": 10,
              "solidity": 0.2
             }
            },
            "type": "barpolar"
           }
          ],
          "carpet": [
           {
            "aaxis": {
             "endlinecolor": "#2a3f5f",
             "gridcolor": "white",
             "linecolor": "white",
             "minorgridcolor": "white",
             "startlinecolor": "#2a3f5f"
            },
            "baxis": {
             "endlinecolor": "#2a3f5f",
             "gridcolor": "white",
             "linecolor": "white",
             "minorgridcolor": "white",
             "startlinecolor": "#2a3f5f"
            },
            "type": "carpet"
           }
          ],
          "choropleth": [
           {
            "colorbar": {
             "outlinewidth": 0,
             "ticks": ""
            },
            "type": "choropleth"
           }
          ],
          "contour": [
           {
            "colorbar": {
             "outlinewidth": 0,
             "ticks": ""
            },
            "colorscale": [
             [
              0,
              "#0d0887"
             ],
             [
              0.1111111111111111,
              "#46039f"
             ],
             [
              0.2222222222222222,
              "#7201a8"
             ],
             [
              0.3333333333333333,
              "#9c179e"
             ],
             [
              0.4444444444444444,
              "#bd3786"
             ],
             [
              0.5555555555555556,
              "#d8576b"
             ],
             [
              0.6666666666666666,
              "#ed7953"
             ],
             [
              0.7777777777777778,
              "#fb9f3a"
             ],
             [
              0.8888888888888888,
              "#fdca26"
             ],
             [
              1,
              "#f0f921"
             ]
            ],
            "type": "contour"
           }
          ],
          "contourcarpet": [
           {
            "colorbar": {
             "outlinewidth": 0,
             "ticks": ""
            },
            "type": "contourcarpet"
           }
          ],
          "heatmap": [
           {
            "colorbar": {
             "outlinewidth": 0,
             "ticks": ""
            },
            "colorscale": [
             [
              0,
              "#0d0887"
             ],
             [
              0.1111111111111111,
              "#46039f"
             ],
             [
              0.2222222222222222,
              "#7201a8"
             ],
             [
              0.3333333333333333,
              "#9c179e"
             ],
             [
              0.4444444444444444,
              "#bd3786"
             ],
             [
              0.5555555555555556,
              "#d8576b"
             ],
             [
              0.6666666666666666,
              "#ed7953"
             ],
             [
              0.7777777777777778,
              "#fb9f3a"
             ],
             [
              0.8888888888888888,
              "#fdca26"
             ],
             [
              1,
              "#f0f921"
             ]
            ],
            "type": "heatmap"
           }
          ],
          "heatmapgl": [
           {
            "colorbar": {
             "outlinewidth": 0,
             "ticks": ""
            },
            "colorscale": [
             [
              0,
              "#0d0887"
             ],
             [
              0.1111111111111111,
              "#46039f"
             ],
             [
              0.2222222222222222,
              "#7201a8"
             ],
             [
              0.3333333333333333,
              "#9c179e"
             ],
             [
              0.4444444444444444,
              "#bd3786"
             ],
             [
              0.5555555555555556,
              "#d8576b"
             ],
             [
              0.6666666666666666,
              "#ed7953"
             ],
             [
              0.7777777777777778,
              "#fb9f3a"
             ],
             [
              0.8888888888888888,
              "#fdca26"
             ],
             [
              1,
              "#f0f921"
             ]
            ],
            "type": "heatmapgl"
           }
          ],
          "histogram": [
           {
            "marker": {
             "pattern": {
              "fillmode": "overlay",
              "size": 10,
              "solidity": 0.2
             }
            },
            "type": "histogram"
           }
          ],
          "histogram2d": [
           {
            "colorbar": {
             "outlinewidth": 0,
             "ticks": ""
            },
            "colorscale": [
             [
              0,
              "#0d0887"
             ],
             [
              0.1111111111111111,
              "#46039f"
             ],
             [
              0.2222222222222222,
              "#7201a8"
             ],
             [
              0.3333333333333333,
              "#9c179e"
             ],
             [
              0.4444444444444444,
              "#bd3786"
             ],
             [
              0.5555555555555556,
              "#d8576b"
             ],
             [
              0.6666666666666666,
              "#ed7953"
             ],
             [
              0.7777777777777778,
              "#fb9f3a"
             ],
             [
              0.8888888888888888,
              "#fdca26"
             ],
             [
              1,
              "#f0f921"
             ]
            ],
            "type": "histogram2d"
           }
          ],
          "histogram2dcontour": [
           {
            "colorbar": {
             "outlinewidth": 0,
             "ticks": ""
            },
            "colorscale": [
             [
              0,
              "#0d0887"
             ],
             [
              0.1111111111111111,
              "#46039f"
             ],
             [
              0.2222222222222222,
              "#7201a8"
             ],
             [
              0.3333333333333333,
              "#9c179e"
             ],
             [
              0.4444444444444444,
              "#bd3786"
             ],
             [
              0.5555555555555556,
              "#d8576b"
             ],
             [
              0.6666666666666666,
              "#ed7953"
             ],
             [
              0.7777777777777778,
              "#fb9f3a"
             ],
             [
              0.8888888888888888,
              "#fdca26"
             ],
             [
              1,
              "#f0f921"
             ]
            ],
            "type": "histogram2dcontour"
           }
          ],
          "mesh3d": [
           {
            "colorbar": {
             "outlinewidth": 0,
             "ticks": ""
            },
            "type": "mesh3d"
           }
          ],
          "parcoords": [
           {
            "line": {
             "colorbar": {
              "outlinewidth": 0,
              "ticks": ""
             }
            },
            "type": "parcoords"
           }
          ],
          "pie": [
           {
            "automargin": true,
            "type": "pie"
           }
          ],
          "scatter": [
           {
            "marker": {
             "colorbar": {
              "outlinewidth": 0,
              "ticks": ""
             }
            },
            "type": "scatter"
           }
          ],
          "scatter3d": [
           {
            "line": {
             "colorbar": {
              "outlinewidth": 0,
              "ticks": ""
             }
            },
            "marker": {
             "colorbar": {
              "outlinewidth": 0,
              "ticks": ""
             }
            },
            "type": "scatter3d"
           }
          ],
          "scattercarpet": [
           {
            "marker": {
             "colorbar": {
              "outlinewidth": 0,
              "ticks": ""
             }
            },
            "type": "scattercarpet"
           }
          ],
          "scattergeo": [
           {
            "marker": {
             "colorbar": {
              "outlinewidth": 0,
              "ticks": ""
             }
            },
            "type": "scattergeo"
           }
          ],
          "scattergl": [
           {
            "marker": {
             "colorbar": {
              "outlinewidth": 0,
              "ticks": ""
             }
            },
            "type": "scattergl"
           }
          ],
          "scattermapbox": [
           {
            "marker": {
             "colorbar": {
              "outlinewidth": 0,
              "ticks": ""
             }
            },
            "type": "scattermapbox"
           }
          ],
          "scatterpolar": [
           {
            "marker": {
             "colorbar": {
              "outlinewidth": 0,
              "ticks": ""
             }
            },
            "type": "scatterpolar"
           }
          ],
          "scatterpolargl": [
           {
            "marker": {
             "colorbar": {
              "outlinewidth": 0,
              "ticks": ""
             }
            },
            "type": "scatterpolargl"
           }
          ],
          "scatterternary": [
           {
            "marker": {
             "colorbar": {
              "outlinewidth": 0,
              "ticks": ""
             }
            },
            "type": "scatterternary"
           }
          ],
          "surface": [
           {
            "colorbar": {
             "outlinewidth": 0,
             "ticks": ""
            },
            "colorscale": [
             [
              0,
              "#0d0887"
             ],
             [
              0.1111111111111111,
              "#46039f"
             ],
             [
              0.2222222222222222,
              "#7201a8"
             ],
             [
              0.3333333333333333,
              "#9c179e"
             ],
             [
              0.4444444444444444,
              "#bd3786"
             ],
             [
              0.5555555555555556,
              "#d8576b"
             ],
             [
              0.6666666666666666,
              "#ed7953"
             ],
             [
              0.7777777777777778,
              "#fb9f3a"
             ],
             [
              0.8888888888888888,
              "#fdca26"
             ],
             [
              1,
              "#f0f921"
             ]
            ],
            "type": "surface"
           }
          ],
          "table": [
           {
            "cells": {
             "fill": {
              "color": "#EBF0F8"
             },
             "line": {
              "color": "white"
             }
            },
            "header": {
             "fill": {
              "color": "#C8D4E3"
             },
             "line": {
              "color": "white"
             }
            },
            "type": "table"
           }
          ]
         },
         "layout": {
          "annotationdefaults": {
           "arrowcolor": "#2a3f5f",
           "arrowhead": 0,
           "arrowwidth": 1
          },
          "autotypenumbers": "strict",
          "coloraxis": {
           "colorbar": {
            "outlinewidth": 0,
            "ticks": ""
           }
          },
          "colorscale": {
           "diverging": [
            [
             0,
             "#8e0152"
            ],
            [
             0.1,
             "#c51b7d"
            ],
            [
             0.2,
             "#de77ae"
            ],
            [
             0.3,
             "#f1b6da"
            ],
            [
             0.4,
             "#fde0ef"
            ],
            [
             0.5,
             "#f7f7f7"
            ],
            [
             0.6,
             "#e6f5d0"
            ],
            [
             0.7,
             "#b8e186"
            ],
            [
             0.8,
             "#7fbc41"
            ],
            [
             0.9,
             "#4d9221"
            ],
            [
             1,
             "#276419"
            ]
           ],
           "sequential": [
            [
             0,
             "#0d0887"
            ],
            [
             0.1111111111111111,
             "#46039f"
            ],
            [
             0.2222222222222222,
             "#7201a8"
            ],
            [
             0.3333333333333333,
             "#9c179e"
            ],
            [
             0.4444444444444444,
             "#bd3786"
            ],
            [
             0.5555555555555556,
             "#d8576b"
            ],
            [
             0.6666666666666666,
             "#ed7953"
            ],
            [
             0.7777777777777778,
             "#fb9f3a"
            ],
            [
             0.8888888888888888,
             "#fdca26"
            ],
            [
             1,
             "#f0f921"
            ]
           ],
           "sequentialminus": [
            [
             0,
             "#0d0887"
            ],
            [
             0.1111111111111111,
             "#46039f"
            ],
            [
             0.2222222222222222,
             "#7201a8"
            ],
            [
             0.3333333333333333,
             "#9c179e"
            ],
            [
             0.4444444444444444,
             "#bd3786"
            ],
            [
             0.5555555555555556,
             "#d8576b"
            ],
            [
             0.6666666666666666,
             "#ed7953"
            ],
            [
             0.7777777777777778,
             "#fb9f3a"
            ],
            [
             0.8888888888888888,
             "#fdca26"
            ],
            [
             1,
             "#f0f921"
            ]
           ]
          },
          "colorway": [
           "#636efa",
           "#EF553B",
           "#00cc96",
           "#ab63fa",
           "#FFA15A",
           "#19d3f3",
           "#FF6692",
           "#B6E880",
           "#FF97FF",
           "#FECB52"
          ],
          "font": {
           "color": "#2a3f5f"
          },
          "geo": {
           "bgcolor": "white",
           "lakecolor": "white",
           "landcolor": "#E5ECF6",
           "showlakes": true,
           "showland": true,
           "subunitcolor": "white"
          },
          "hoverlabel": {
           "align": "left"
          },
          "hovermode": "closest",
          "mapbox": {
           "style": "light"
          },
          "paper_bgcolor": "white",
          "plot_bgcolor": "#E5ECF6",
          "polar": {
           "angularaxis": {
            "gridcolor": "white",
            "linecolor": "white",
            "ticks": ""
           },
           "bgcolor": "#E5ECF6",
           "radialaxis": {
            "gridcolor": "white",
            "linecolor": "white",
            "ticks": ""
           }
          },
          "scene": {
           "xaxis": {
            "backgroundcolor": "#E5ECF6",
            "gridcolor": "white",
            "gridwidth": 2,
            "linecolor": "white",
            "showbackground": true,
            "ticks": "",
            "zerolinecolor": "white"
           },
           "yaxis": {
            "backgroundcolor": "#E5ECF6",
            "gridcolor": "white",
            "gridwidth": 2,
            "linecolor": "white",
            "showbackground": true,
            "ticks": "",
            "zerolinecolor": "white"
           },
           "zaxis": {
            "backgroundcolor": "#E5ECF6",
            "gridcolor": "white",
            "gridwidth": 2,
            "linecolor": "white",
            "showbackground": true,
            "ticks": "",
            "zerolinecolor": "white"
           }
          },
          "shapedefaults": {
           "line": {
            "color": "#2a3f5f"
           }
          },
          "ternary": {
           "aaxis": {
            "gridcolor": "white",
            "linecolor": "white",
            "ticks": ""
           },
           "baxis": {
            "gridcolor": "white",
            "linecolor": "white",
            "ticks": ""
           },
           "bgcolor": "#E5ECF6",
           "caxis": {
            "gridcolor": "white",
            "linecolor": "white",
            "ticks": ""
           }
          },
          "title": {
           "x": 0.05
          },
          "xaxis": {
           "automargin": true,
           "gridcolor": "white",
           "linecolor": "white",
           "ticks": "",
           "title": {
            "standoff": 15
           },
           "zerolinecolor": "white",
           "zerolinewidth": 2
          },
          "yaxis": {
           "automargin": true,
           "gridcolor": "white",
           "linecolor": "white",
           "ticks": "",
           "title": {
            "standoff": 15
           },
           "zerolinecolor": "white",
           "zerolinewidth": 2
          }
         }
        }
       }
      }
     },
     "metadata": {},
     "output_type": "display_data"
    }
   ],
   "source": [
    "s2_lat_files = [file for file in get_files('data/set_2') if 'average_latencies' in file and '_4_' not in file]\n",
    "s4_lat_files = [file for file in get_files('data/set_4') if 'average_latencies' in file and '_4_' not in file]\n",
    "\n",
    "titles = ['Type', 'Unicast/Multicast', 'Participants', 'Mean Latency (us)', 'Min. Latency (us)', 'Max Latency (us)', 'Std']\n",
    "\n",
    "if len(s2_lat_files) != len(s4_lat_files):\n",
    "    print(\" The number of files from each set don't match. \", style=\"black on #de425b\")\n",
    "    print(\" Set 2 has %x files and Set 4 has %x files. \" %(len(s2_lat_files), len(s4_lat_files)), style=\"black on #de425b\")\n",
    "else:\n",
    "    (types, comm_types, participants, means, mins, maxes, stds) = get_table_data(s2_lat_files, s4_lat_files)\n",
    "\n",
    "    plot_table(titles, [types, comm_types, participants, means, mins, maxes, stds])"
   ]
  },
  {
   "cell_type": "markdown",
   "id": "c0d5eff8",
   "metadata": {},
   "source": [
    "We can see that the latencies definitely increase with the number of participants but what we want to compare is the latencies of the normal tests with the latencies of the attack tests."
   ]
  },
  {
   "cell_type": "code",
   "execution_count": 62,
   "id": "e808e9c4",
   "metadata": {},
   "outputs": [
    {
     "data": {
      "image/png": "[encoded data removed]",
      "text/plain": [
       "<Figure size 2160x720 with 1 Axes>"
      ]
     },
     "metadata": {
      "needs_background": "light"
     },
     "output_type": "display_data"
    }
   ],
   "source": [
    "from all_functions import *\n",
    "\n",
    "fig, ax = plt.subplots(figsize=(30, 10))\n",
    "fig.suptitle(\"Latency Comparison of Normal DDS Usage vs DDS Under Attack\")\n",
    "\n",
    "s2_means = {\n",
    "    'ucast': [],\n",
    "    'mcast': []\n",
    "}\n",
    "s4_means = {\n",
    "    'ucast': [],\n",
    "    'mcast': []\n",
    "}\n",
    "\n",
    "for file in s2_lat_files:\n",
    "    if 'unicast' in file:\n",
    "        s2_means['ucast'].append(get_stat(pd.read_csv(file)['avg_non_mal_run_latency'], 'mean', False))\n",
    "    else:\n",
    "        s2_means['mcast'].append(get_stat(pd.read_csv(file)['avg_non_mal_run_latency'], 'mean', False))\n",
    "\n",
    "for file in s4_lat_files:\n",
    "    if 'unicast' in file:\n",
    "        s4_means['ucast'].append(get_stat(pd.read_csv(file)['avg_non_mal_run_latency'], 'mean', False))\n",
    "    else:\n",
    "        s4_means['mcast'].append(get_stat(pd.read_csv(file)['avg_non_mal_run_latency'], 'mean', False))\n",
    "\n",
    "df = pd.DataFrame({\n",
    "    'normal_ucast_tests': get_test_names([file for file in s2_lat_files if 'unicast' in file]),\n",
    "    'normal_ucast_means': s2_means['ucast'],\n",
    "    'normal_mcast_tests': get_test_names([file for file in s2_lat_files if 'multicast' in file]),\n",
    "    'normal_mcast_means': s2_means['mcast'],\n",
    "    'attack_ucast_tests': get_test_names([file for file in s4_lat_files if 'unicast' in file]), \n",
    "    'attack_ucast_means': s4_means['ucast'],\n",
    "    'attack_mcast_tests': get_test_names([file for file in s4_lat_files if 'multicast' in file]),\n",
    "    'attack_mcast_means': s4_means['mcast']\n",
    "})\n",
    "\n",
    "width = 0.4\n",
    "ucast_normal_bars = ax.bar((df.index * 2) - width / 2, df['normal_ucast_means'], width, color='#007bff', label=\"Normal DDS Usage\")\n",
    "ucast_attack_bars = ax.bar((df.index * 2) + width / 2, df['attack_ucast_means'], width, color='#de425b', label=\"DDS Under DDOS Attack (2 x Subs)\")\n",
    "\n",
    "mcast_normal_bars = ax.bar(( (df.index * 2) +1 ) - width / 2, df['normal_mcast_means'], width, color='#007bff')\n",
    "mcast_attack_bars = ax.bar(( (df.index * 2) +1 ) + width / 2, df['attack_mcast_means'], width, color='#de425b')\n",
    "\n",
    "# Put all the x labels in an ordered and sequential fashion for easy labelling\n",
    "x_labels = ['', '', '', '', '', '']\n",
    "for item in df['normal_ucast_tests']:\n",
    "    i = df['normal_ucast_tests'].index[df['normal_ucast_tests'] == item].tolist()[0]\n",
    "    x_labels[i * 2] = item\n",
    "for item in df['normal_mcast_tests']:\n",
    "    i = df['normal_mcast_tests'].index[df['normal_mcast_tests'] == item].tolist()[0]\n",
    "    x_labels[i * 2 + 1] = item\n",
    "\n",
    "normal_means = [0, 0, 0, 0, 0, 0]\n",
    "attack_means = [0, 0, 0, 0, 0, 0]\n",
    "\n",
    "for item in df['normal_ucast_means']:\n",
    "    tdf = df['normal_ucast_means']\n",
    "    i = tdf.index[tdf == item].tolist()[0]\n",
    "    normal_means[i * 2] = item\n",
    "for item in df['normal_mcast_means']:\n",
    "    tdf = df['normal_mcast_means']\n",
    "    i = tdf.index[tdf == item].tolist()[0]\n",
    "    normal_means[i * 2 + 1] = item\n",
    "\n",
    "for item in df['attack_ucast_means']:\n",
    "    tdf = df['attack_ucast_means']\n",
    "    i = tdf.index[tdf == item].tolist()[0]\n",
    "    attack_means[i * 2] = item\n",
    "for item in df['attack_mcast_means']:\n",
    "    tdf = df['attack_mcast_means']\n",
    "    i = tdf.index[tdf == item].tolist()[0]\n",
    "    attack_means[i * 2 + 1] = item\n",
    "\n",
    "perc_diffs = []\n",
    "for item in normal_means:\n",
    "    i = normal_means.index(item)\n",
    "    before = normal_means[i]\n",
    "    after = attack_means[i]\n",
    "    if after > before:\n",
    "        perc_diff = (abs(after - before) / before) * 100\n",
    "        perc_diff = \"+\" + format_number(perc_diff)\n",
    "    elif after < before:\n",
    "        perc_diff = (abs(before - after) / after) * 100\n",
    "        perc_diff = \"-\" + format_number(perc_diff)\n",
    "    perc_diffs.append(perc_diff + \"%\")\n",
    "\n",
    "for mean in normal_means:\n",
    "    i = normal_means.index(mean)\n",
    "    if i % 2 == 0:\n",
    "        normal_ucast = normal_means[i]\n",
    "        attack_ucast = attack_means[i]\n",
    "        ax.text(i - width * 0.75, normal_ucast * 0.8, format_number(normal_ucast), color='white', fontweight='bold', fontsize=12)\n",
    "        ax.text(i + width * 0.25, attack_ucast * 0.8, format_number(attack_ucast), color='white', fontweight='bold', fontsize=12)\n",
    "    else:\n",
    "        normal_mcast = normal_means[i]\n",
    "        attack_mcast = attack_means[i]\n",
    "        ax.text(i - width * 0.75, normal_mcast * 0.8, format_number(normal_mcast), color='white', fontweight='bold', fontsize=12)\n",
    "        ax.text(i + width * 0.25, attack_mcast * 0.8, format_number(attack_mcast), color='white', fontweight='bold', fontsize=12)\n",
    "\n",
    "# Plot mean lines\n",
    "normal_mean = sum(normal_means) / len(normal_means)\n",
    "attack_mean = sum(attack_means) / len(attack_means)\n",
    "ax.axhline(normal_mean, 0, 1, color='#007bff', ls=\"--\")\n",
    "ax.text(-0.2-width, normal_mean, 'Normal Avg: %s$\\mu$s' %format_number(normal_mean), color='white', backgroundcolor='#007bff')\n",
    "ax.axhline(attack_mean, 0, 1, color='#de425b', ls=\"--\")\n",
    "ax.text(-0.2-width, attack_mean, 'Attack Avg: %s$\\mu$s' %format_number(attack_mean), color='white', backgroundcolor='#de425b')\n",
    "\n",
    "# Plot percentage differences\n",
    "for i in range(0, len(perc_diffs)):\n",
    "    x = i + width / 4\n",
    "    y = attack_means[i] * 1.1\n",
    "    s = perc_diffs[i]\n",
    "    ax.text(x, y, s, fontweight='bold', fontsize=12, backgroundcolor='white')\n",
    "\n",
    "# Label the x-axis accordingly\n",
    "x_labels = [label.replace(\"(100B)\", \"\") for label in x_labels]\n",
    "ax.set_xticks(np.arange(len(df['normal_ucast_tests']) * 2), x_labels)\n",
    "\n",
    "ax.set_ylabel(\"Average Latency From 3 Runs ($\\mu$s)\", fontweight='bold', fontsize=12)\n",
    "ax.set_xlabel(\"Test Types Increasing in Participant Amount\", fontweight='bold', fontsize=12)\n",
    "ax.set_yscale('log')\n",
    "_ = ax.legend()"
   ]
  },
  {
   "cell_type": "code",
   "execution_count": 4,
   "id": "ac339bc4",
   "metadata": {},
   "outputs": [],
   "source": [
    "# ax.scatter(s2_df['means'].index, s2_df['means'], 100, c='#488f31')\n",
    "# ax.scatter(s4_df['means'].index, s4_df['means'], 100, c='#de425b')\n",
    "\n",
    "# ax.plot(s2_df['means'], c='#488f31', label=\"Normal\")\n",
    "# ax.plot(s4_df['means'], c='#de425b', label=\"Attack\")\n",
    "\n",
    "# for i in range(0, len(s2_df.index)):\n",
    "#     test = get_participants(s2_ucast_files[i]) + \" \" + get_test_comm(s2_ucast_files[i])\n",
    "#     test = test.title()\n",
    "#     ax.text(i + 0.06, s2_df['means'][i] * 0.997, test, c='#fff', backgroundcolor='#488f31')\n",
    "# for i in range(0, len(s4_df.index)):\n",
    "#     test = get_participants(s4_ucast_files[i]) + \" \" + get_test_comm(s4_ucast_files[i])\n",
    "#     test = test.title()\n",
    "#     ax.text(i + 0.06, s4_df['means'][i] * 0.997, test, c='#fff', backgroundcolor='#de425b')\n",
    "\n",
    "# config_ax(ax, True, 'Latency (us)', 'Test', False, False, True, True)\n",
    "\n",
    "# plt.tight_layout(pad=2)\n",
    "\n",
    "# fig, ax = plt.subplots(figsize=(30, 10))\n",
    "# fig.suptitle(\"Latency Comparison of Normal DDS vs DDS Under Attack (Multicast)\")\n",
    "\n",
    "# s2_means = []\n",
    "# s4_means = []\n",
    "\n",
    "# s2_mcast_files = [file for file in s2_lat_files if 'multicast' in file]\n",
    "# s4_mcast_files = [file for file in s4_lat_files if 'multicast' in file]\n",
    "\n",
    "# for file in s2_mcast_files:\n",
    "#     s2_means.append(get_stat(pd.read_csv(file)['avg_non_mal_run_latency'], 'mean', False))\n",
    "# for file in s4_mcast_files:\n",
    "#     s4_means.append(get_stat(pd.read_csv(file)['avg_non_mal_run_latency'], 'mean', False))\n",
    "\n",
    "# s2_df = pd.DataFrame({'tests': s2_mcast_files, 'means': s2_means})\n",
    "# s4_df = pd.DataFrame({'tests': s4_mcast_files, 'means': s4_means})\n",
    "\n",
    "# ax.scatter(s2_df['means'].index, s2_df['means'], 100, c='#488f31')\n",
    "# ax.scatter(s4_df['means'].index, s4_df['means'], 100, c='#de425b')\n",
    "\n",
    "# ax.plot(s2_df['means'], c='#488f31', label=\"Normal\")\n",
    "# ax.plot(s4_df['means'], c='#de425b', label=\"Attack\")\n",
    "\n",
    "# for i in range(0, len(s2_df.index)):\n",
    "#     test = get_participants(s2_mcast_files[i]) + \" \" + get_test_comm(s2_mcast_files[i])\n",
    "#     test = test.title()\n",
    "#     ax.text(i + 0.06, s2_df['means'][i] * 0.997, test, c='#fff', backgroundcolor='#488f31')\n",
    "# for i in range(0, len(s4_df.index)):\n",
    "#     test = get_participants(s4_mcast_files[i]) + \" \" + get_test_comm(s4_mcast_files[i])\n",
    "#     test = test.title()\n",
    "#     ax.text(i + 0.06, s4_df['means'][i] * 0.997, test, c='#fff', backgroundcolor='#de425b')\n",
    "\n",
    "# config_ax(ax, True, 'Latency (us)', 'Test', False, False, True, True)\n",
    "\n",
    "# plt.tight_layout(pad=2)\n",
    "\n",
    "# fig, ax = plt.subplots(figsize=(30, 10))\n",
    "# fig.suptitle(\"Latency Comparison of Normal DDS vs DDS Under Attack (Combined)\")\n",
    "\n",
    "# s2_means = []\n",
    "# s4_means = []\n",
    "\n",
    "# for file in s2_lat_files:\n",
    "#     s2_means.append(get_stat(pd.read_csv(file)['avg_non_mal_run_latency'], 'mean', False))\n",
    "# for file in s4_lat_files:\n",
    "#     s4_means.append(get_stat(pd.read_csv(file)['avg_non_mal_run_latency'], 'mean', False))\n",
    "\n",
    "# s2_df = pd.DataFrame({'tests': s2_lat_files, 'means': s2_means})\n",
    "# s4_df = pd.DataFrame({'tests': s4_lat_files, 'means': s4_means})\n",
    "\n",
    "# ax.scatter(s2_df['means'].index, s2_df['means'], 100, c='#488f31')\n",
    "# ax.scatter(s4_df['means'].index, s4_df['means'], 100, c='#de425b')\n",
    "\n",
    "# ax.plot(s2_df['means'], c='#488f31', label=\"Normal\")\n",
    "# ax.plot(s4_df['means'], c='#de425b', label=\"Attack\")\n",
    "\n",
    "# for i in range(0, len(s2_df.index)):\n",
    "#     test = get_participants(s2_lat_files[i]) + \" \" + get_test_comm(s2_lat_files[i])\n",
    "#     test = test.title()\n",
    "#     ax.text(i + 0.06, s2_df['means'][i] * 0.997, test, c='#fff', backgroundcolor='#488f31')\n",
    "# for i in range(0, len(s4_df.index)):\n",
    "#     test = get_participants(s4_lat_files[i]) + \" \" + get_test_comm(s4_lat_files[i])\n",
    "#     test = test.title()\n",
    "#     ax.text(i + 0.06, s4_df['means'][i] * 0.997, test, c='#fff', backgroundcolor='#de425b')\n",
    "\n",
    "# config_ax(ax, True, 'Latency (us)', 'Test', False, False, True, True)\n",
    "\n",
    "# plt.tight_layout(pad=2)"
   ]
  }
 ],
 "metadata": {
  "kernelspec": {
   "display_name": "Python 3 (ipykernel)",
   "language": "python",
   "name": "python3"
  },
  "language_info": {
   "codemirror_mode": {
    "name": "ipython",
    "version": 3
   },
   "file_extension": ".py",
   "mimetype": "text/x-python",
   "name": "python",
   "nbconvert_exporter": "python",
   "pygments_lexer": "ipython3",
   "version": "3.10.2"
  }
 },
 "nbformat": 4,
 "nbformat_minor": 5
}
