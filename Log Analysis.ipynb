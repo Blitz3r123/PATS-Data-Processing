{
 "cells": [
  {
   "cell_type": "code",
   "execution_count": 2,
   "metadata": {},
   "outputs": [],
   "source": [
    "from log_analysis_functions import *"
   ]
  },
  {
   "cell_type": "markdown",
   "metadata": {},
   "source": [
    "# Log Analysis\n",
    "\n",
    "The purpose of this notebook is to analyse the logs that have been produced from tests with errors. In most of the cases, a single VM (the one that tends to contain malicious subscribers receiving data from a DOS attack) tends to not restart and we need to understand if the CPU usage or the network usage built up to a point of no return so to say.\n",
    "\n",
    "We start off by analysing the following tests where VM 4 didn't restart when it was supposed to.\n",
    "\n",
    "- `3_45_dos_unicast_3_512_kilobytes`\n",
    "- `3_51_dos_unicast_3_1024_kilobytes`\n",
    "- `3_51_dos_unicast_3_1024_kilobytes_rerun`\n",
    "- `3_54_dos_multicast_3_1024_kilobytes`"
   ]
  },
  {
   "cell_type": "markdown",
   "metadata": {},
   "source": [
    "## 3_45_dos_unicast_3_512_kilobytes\n",
    "\n",
    "`_metadata` file show the following:\n",
    "\n",
    "```\n",
    "Test Start: [28/03/22]: 19:46:30\n",
    "Restart VM 10.200.51.21: [28/03/22]: 20:01:48\n",
    "Restart VM 10.200.51.23: [28/03/22]: 20:01:50\n",
    "Restart VM 10.200.51.22: [28/03/22]: 20:06:22\n",
    "Restart VM 10.200.51.24: [28/03/22]: 20:06:28\n",
    "Restart VM 10.200.51.22: [28/03/22]: 20:22:51\n",
    "Restart VM 10.200.51.21: [28/03/22]: 20:22:57\n",
    "Restart VM 10.200.51.23: [28/03/22]: 20:23:00\n",
    "```\n",
    "We need to analyse what happened between 20:06:28 to 20:23:00 on VM 10.200.51.23 A.K.A VM 4 but the logs don't exist for some reason."
   ]
  },
  {
   "cell_type": "markdown",
   "metadata": {},
   "source": [
    "## 3_51_dos_unicast_3_1024_kilobytes / 3_51_dos_unicast_3_1024_kilobytes_rerun\n",
    "\n",
    "`_metadata` file shows the following:\n",
    "\n",
    "```\n",
    "Test Start: [04/04/22]: 14:23:25\n",
    "Restart VM 10.200.51.22: [04/04/22]: 14:39:40\n",
    "Restart VM 10.200.51.21: [04/04/22]: 14:39:42\n",
    "Restart VM 10.200.51.23: [04/04/22]: 14:39:48\n",
    "```\n",
    "\n",
    "We need to find out what happened following up to and aroudn 14:39 on VM 4 (10.200.51.24).\n",
    "\n",
    "Turns out the logs for VM 4 doesn't exist either..."
   ]
  },
  {
   "cell_type": "markdown",
   "metadata": {},
   "source": [
    "## 3_54_dos_multicast_3_1024_kilobytes\n",
    "\n",
    "`_metadata` file shows the following:\n",
    "\n",
    "```\n",
    "Test Start: [04/04/22]: 16:47:20\n",
    "Restart VM 10.200.51.21: [04/04/22]: 17:03:41\n",
    "Restart VM 10.200.51.23: [04/04/22]: 17:03:45\n",
    "Restart VM 10.200.51.22: [04/04/22]: 17:09:21\n",
    "```\n",
    "\n",
    "We are interested in finding out what the logs tell us what happened around 17:05 on VM 4 (10.200.51.24)."
   ]
  },
  {
   "cell_type": "code",
   "execution_count": 1,
   "metadata": {},
   "outputs": [
    {
     "ename": "NameError",
     "evalue": "name 'get_files' is not defined",
     "output_type": "error",
     "traceback": [
      "\u001b[1;31m---------------------------------------------------------------------------\u001b[0m",
      "\u001b[1;31mNameError\u001b[0m                                 Traceback (most recent call last)",
      "\u001b[1;32mc:\\Users\\acwh025\\OneDrive - City, University of London\\PhD\\PAT\\PATS Data Processing\\Log Analysis.ipynb Cell 6'\u001b[0m in \u001b[0;36m<module>\u001b[1;34m\u001b[0m\n\u001b[0;32m     <a href='vscode-notebook-cell:/c%3A/Users/acwh025/OneDrive%20-%20City%2C%20University%20of%20London/PhD/PAT/PATS%20Data%20Processing/Log%20Analysis.ipynb#ch0000005?line=47'>48</a>\u001b[0m         console\u001b[39m.\u001b[39mprint(\u001b[39m\"\u001b[39m\u001b[39mInvalid type given to function: \u001b[39m\u001b[39m\"\u001b[39m \u001b[39m+\u001b[39m \u001b[39mstr\u001b[39m(\u001b[39mtype\u001b[39m), style\u001b[39m=\u001b[39m\u001b[39m\"\u001b[39m\u001b[39mbold red\u001b[39m\u001b[39m\"\u001b[39m)\n\u001b[0;32m     <a href='vscode-notebook-cell:/c%3A/Users/acwh025/OneDrive%20-%20City%2C%20University%20of%20London/PhD/PAT/PATS%20Data%20Processing/Log%20Analysis.ipynb#ch0000005?line=49'>50</a>\u001b[0m \u001b[39m# Get log files\u001b[39;00m\n\u001b[1;32m---> <a href='vscode-notebook-cell:/c%3A/Users/acwh025/OneDrive%20-%20City%2C%20University%20of%20London/PhD/PAT/PATS%20Data%20Processing/Log%20Analysis.ipynb#ch0000005?line=50'>51</a>\u001b[0m all_logs \u001b[39m=\u001b[39m [file \u001b[39mfor\u001b[39;00m file \u001b[39min\u001b[39;00m get_files(\u001b[39m'\u001b[39m\u001b[39mdata/set_3/3_54_dos_multicast_3_1024_kilobytes\u001b[39m\u001b[39m'\u001b[39m) \u001b[39mif\u001b[39;00m \u001b[39m'\u001b[39m\u001b[39m.log\u001b[39m\u001b[39m'\u001b[39m \u001b[39min\u001b[39;00m file]\n\u001b[0;32m     <a href='vscode-notebook-cell:/c%3A/Users/acwh025/OneDrive%20-%20City%2C%20University%20of%20London/PhD/PAT/PATS%20Data%20Processing/Log%20Analysis.ipynb#ch0000005?line=51'>52</a>\u001b[0m cpu_logs \u001b[39m=\u001b[39m [file \u001b[39mfor\u001b[39;00m file \u001b[39min\u001b[39;00m all_logs \u001b[39mif\u001b[39;00m \u001b[39m'\u001b[39m\u001b[39mcpu_usage\u001b[39m\u001b[39m'\u001b[39m \u001b[39min\u001b[39;00m file]\n\u001b[0;32m     <a href='vscode-notebook-cell:/c%3A/Users/acwh025/OneDrive%20-%20City%2C%20University%20of%20London/PhD/PAT/PATS%20Data%20Processing/Log%20Analysis.ipynb#ch0000005?line=52'>53</a>\u001b[0m network_logs \u001b[39m=\u001b[39m [file \u001b[39mfor\u001b[39;00m file \u001b[39min\u001b[39;00m all_logs \u001b[39mif\u001b[39;00m \u001b[39m'\u001b[39m\u001b[39mnetwork_usage\u001b[39m\u001b[39m'\u001b[39m \u001b[39min\u001b[39;00m file]\n",
      "\u001b[1;31mNameError\u001b[0m: name 'get_files' is not defined"
     ]
    }
   ],
   "source": [
    "def parse_log(type, file):\n",
    "    # console.print(Markdown(\"# \" + file), style=\"\")\n",
    "    if \"cpu\" in type:\n",
    "        with open(file, 'r') as f:\n",
    "            file_contents = f.readlines()\n",
    "        title_line = [line for line in file_contents[0:5] if '%usr' in line][0]\n",
    "\n",
    "        titles = [\"Time\"] + [item.replace(\"%\", \"\").replace(\"\\n\", \"\") for item in title_line.split(\" \") if item != \"\" and not any(char.isdigit() for char in item)]\n",
    "        \n",
    "        times = []\n",
    "        usr = []\n",
    "        nice = []\n",
    "        sys = []\n",
    "        iowait = []\n",
    "        idle = []\n",
    "\n",
    "        title_line_index = file_contents.index(title_line)\n",
    "\n",
    "        measurements = file_contents[title_line_index + 1:]\n",
    "\n",
    "        for measurement in measurements:\n",
    "            values = [item for item in measurement.split(\" \") if item != \"\"]\n",
    "            if len(values) > 3:\n",
    "                try:\n",
    "                    console.print(file_contents[0:10], style=\"green\")\n",
    "                    time_value = [int(value) for value in values[0].split(\":\")]\n",
    "                except Exception as e:\n",
    "                    print(file_contents[0:10])\n",
    "                times.append(datetime.time(time_value[0], time_value[1], time_value[2]))\n",
    "                usr.append(values[2])\n",
    "                sys.append(values[4])\n",
    "                iowait.append(values[5])\n",
    "                idle.append(values[len(values) - 1])\n",
    "        \n",
    "        parsed_measurements = {\n",
    "            \"times\": times,\n",
    "            \"usr\": usr,\n",
    "            \"sys\": sys,\n",
    "            \"iowait\": iowait,\n",
    "            \"idle\": idle\n",
    "        }\n",
    "\n",
    "        return parsed_measurements\n",
    "\n",
    "    elif \"network\" in type:\n",
    "        None\n",
    "    else:\n",
    "        console.print(\"Invalid type given to function: \" + str(type), style=\"bold red\")\n",
    "\n",
    "# Get log files\n",
    "all_logs = [file for file in get_files('data/set_3/3_54_dos_multicast_3_1024_kilobytes') if '.log' in file]\n",
    "cpu_logs = [file for file in all_logs if 'cpu_usage' in file]\n",
    "network_logs = [file for file in all_logs if 'network_usage' in file]\n",
    "\n",
    "fig, ax = plt.subplots(nrows=len(cpu_logs), ncols=1, figsize=(20, 40))\n",
    "\n",
    "for file in cpu_logs:\n",
    "    data = parse_log('cpu', file)\n",
    "    index = cpu_logs.index(file)\n",
    "    ax[index].set_title(file)"
   ]
  }
 ],
 "metadata": {
  "interpreter": {
   "hash": "ee9a1b83036b540f44c6734ff698a93dad4ca67534a70d09177e581214cff0be"
  },
  "kernelspec": {
   "display_name": "Python 3.10.0 64-bit",
   "language": "python",
   "name": "python3"
  },
  "language_info": {
   "codemirror_mode": {
    "name": "ipython",
    "version": 3
   },
   "file_extension": ".py",
   "mimetype": "text/x-python",
   "name": "python",
   "nbconvert_exporter": "python",
   "pygments_lexer": "ipython3",
   "version": "3.10.0"
  },
  "orig_nbformat": 4
 },
 "nbformat": 4,
 "nbformat_minor": 2
}
